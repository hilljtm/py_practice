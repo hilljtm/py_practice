{
 "cells": [
  {
   "cell_type": "markdown",
   "metadata": {},
   "source": [
    "# This is a template for a complete analysis using time series data"
   ]
  },
  {
   "cell_type": "markdown",
   "metadata": {},
   "source": [
    "### Import\n",
    "`import pandas as pd`\n",
    "\n",
    "`import seaborn as sns`"
   ]
  },
  {
   "cell_type": "markdown",
   "metadata": {},
   "source": [
    "#### Read in your file\n",
    "`df = pd.read_csv(filename.csv)`\n",
    "\n",
    "#### Print first 5 lines\n",
    "`print(df.head(5))`\n",
    "\n",
    "#### Check the type of each column \n",
    "`print(df.dtypes)`\n",
    "\n",
    "#### Convert datestamp column to datetime\n",
    "`df['date_time'] = pd.to_datetime(df['datestamp'])`\n",
    "\n",
    "#### Set date columns as index\n",
    "`df = df.set_index('date')`\n",
    "\n",
    "#### Check the number of missing values\n",
    "`print(df.isnull().sum())`"
   ]
  },
  {
   "cell_type": "markdown",
   "metadata": {},
   "source": [
    "### Describe time series data with box plots\n",
    "\n",
    "`df.boxplot(fontsize=6, vert=False)`\n",
    "`plt.show()`\n",
    "\n",
    "### Generate numerical summary\n",
    "`print(df.describe())`\n",
    "\n",
    "#### Print name of time series with highest mean, and standard deviation from describe method above"
   ]
  },
  {
   "cell_type": "markdown",
   "metadata": {},
   "source": [
    "#### Plotting monthly and yearly trends\n",
    "\n",
    "* Extracting the year in each date indices of your dataframe\n",
    "\n",
    "`index_year = df.index.year`\n",
    "\n",
    "* Compute the mean of your dataframe for each year\n",
    "\n",
    "`df_by_year = df.groupby(index_year).mean()`\n",
    "\n",
    "* Plot the mean for each year\n",
    "\n",
    "`ax = df.plot()`"
   ]
  },
  {
   "cell_type": "code",
   "execution_count": null,
   "metadata": {},
   "outputs": [],
   "source": []
  }
 ],
 "metadata": {
  "kernelspec": {
   "display_name": "Python 3",
   "language": "python",
   "name": "python3"
  },
  "language_info": {
   "codemirror_mode": {
    "name": "ipython",
    "version": 3
   },
   "file_extension": ".py",
   "mimetype": "text/x-python",
   "name": "python",
   "nbconvert_exporter": "python",
   "pygments_lexer": "ipython3",
   "version": "3.7.2"
  }
 },
 "nbformat": 4,
 "nbformat_minor": 2
}
