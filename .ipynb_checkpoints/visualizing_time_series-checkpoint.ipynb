{
 "cells": [
  {
   "cell_type": "code",
   "execution_count": 1,
   "metadata": {},
   "outputs": [],
   "source": [
    "import pandas as pd\n",
    "import numpy as np\n",
    "import matplotlib.pyplot as plt"
   ]
  },
  {
   "cell_type": "code",
   "execution_count": 2,
   "metadata": {},
   "outputs": [],
   "source": [
    "# Read CSV\n",
    "apple = pd.read_csv('AAPL.csv')"
   ]
  },
  {
   "cell_type": "code",
   "execution_count": 3,
   "metadata": {
    "scrolled": true
   },
   "outputs": [
    {
     "data": {
      "text/html": [
       "<div>\n",
       "<style scoped>\n",
       "    .dataframe tbody tr th:only-of-type {\n",
       "        vertical-align: middle;\n",
       "    }\n",
       "\n",
       "    .dataframe tbody tr th {\n",
       "        vertical-align: top;\n",
       "    }\n",
       "\n",
       "    .dataframe thead th {\n",
       "        text-align: right;\n",
       "    }\n",
       "</style>\n",
       "<table border=\"1\" class=\"dataframe\">\n",
       "  <thead>\n",
       "    <tr style=\"text-align: right;\">\n",
       "      <th></th>\n",
       "      <th>Date</th>\n",
       "      <th>Open</th>\n",
       "      <th>High</th>\n",
       "      <th>Low</th>\n",
       "      <th>Close</th>\n",
       "      <th>Adj Close</th>\n",
       "      <th>Volume</th>\n",
       "    </tr>\n",
       "  </thead>\n",
       "  <tbody>\n",
       "    <tr>\n",
       "      <th>0</th>\n",
       "      <td>2017-04-17</td>\n",
       "      <td>141.479996</td>\n",
       "      <td>141.880005</td>\n",
       "      <td>140.869995</td>\n",
       "      <td>141.830002</td>\n",
       "      <td>135.750275</td>\n",
       "      <td>16582100</td>\n",
       "    </tr>\n",
       "    <tr>\n",
       "      <th>1</th>\n",
       "      <td>2017-04-18</td>\n",
       "      <td>141.410004</td>\n",
       "      <td>142.039993</td>\n",
       "      <td>141.110001</td>\n",
       "      <td>141.199997</td>\n",
       "      <td>135.147308</td>\n",
       "      <td>14697500</td>\n",
       "    </tr>\n",
       "    <tr>\n",
       "      <th>2</th>\n",
       "      <td>2017-04-19</td>\n",
       "      <td>141.880005</td>\n",
       "      <td>142.000000</td>\n",
       "      <td>140.449997</td>\n",
       "      <td>140.679993</td>\n",
       "      <td>134.649567</td>\n",
       "      <td>17328400</td>\n",
       "    </tr>\n",
       "    <tr>\n",
       "      <th>3</th>\n",
       "      <td>2017-04-20</td>\n",
       "      <td>141.220001</td>\n",
       "      <td>142.919998</td>\n",
       "      <td>141.160004</td>\n",
       "      <td>142.440002</td>\n",
       "      <td>136.334137</td>\n",
       "      <td>23319600</td>\n",
       "    </tr>\n",
       "    <tr>\n",
       "      <th>4</th>\n",
       "      <td>2017-04-21</td>\n",
       "      <td>142.440002</td>\n",
       "      <td>142.679993</td>\n",
       "      <td>141.850006</td>\n",
       "      <td>142.270004</td>\n",
       "      <td>136.171432</td>\n",
       "      <td>17320900</td>\n",
       "    </tr>\n",
       "  </tbody>\n",
       "</table>\n",
       "</div>"
      ],
      "text/plain": [
       "         Date        Open        High         Low       Close   Adj Close  \\\n",
       "0  2017-04-17  141.479996  141.880005  140.869995  141.830002  135.750275   \n",
       "1  2017-04-18  141.410004  142.039993  141.110001  141.199997  135.147308   \n",
       "2  2017-04-19  141.880005  142.000000  140.449997  140.679993  134.649567   \n",
       "3  2017-04-20  141.220001  142.919998  141.160004  142.440002  136.334137   \n",
       "4  2017-04-21  142.440002  142.679993  141.850006  142.270004  136.171432   \n",
       "\n",
       "     Volume  \n",
       "0  16582100  \n",
       "1  14697500  \n",
       "2  17328400  \n",
       "3  23319600  \n",
       "4  17320900  "
      ]
     },
     "execution_count": 3,
     "metadata": {},
     "output_type": "execute_result"
    }
   ],
   "source": [
    "# Display head and tail of data\n",
    "apple.head()"
   ]
  },
  {
   "cell_type": "code",
   "execution_count": 4,
   "metadata": {
    "scrolled": true
   },
   "outputs": [
    {
     "data": {
      "text/html": [
       "<div>\n",
       "<style scoped>\n",
       "    .dataframe tbody tr th:only-of-type {\n",
       "        vertical-align: middle;\n",
       "    }\n",
       "\n",
       "    .dataframe tbody tr th {\n",
       "        vertical-align: top;\n",
       "    }\n",
       "\n",
       "    .dataframe thead th {\n",
       "        text-align: right;\n",
       "    }\n",
       "</style>\n",
       "<table border=\"1\" class=\"dataframe\">\n",
       "  <thead>\n",
       "    <tr style=\"text-align: right;\">\n",
       "      <th></th>\n",
       "      <th>Open</th>\n",
       "      <th>High</th>\n",
       "      <th>Low</th>\n",
       "      <th>Close</th>\n",
       "      <th>Adj Close</th>\n",
       "      <th>Volume</th>\n",
       "    </tr>\n",
       "    <tr>\n",
       "      <th>Date</th>\n",
       "      <th></th>\n",
       "      <th></th>\n",
       "      <th></th>\n",
       "      <th></th>\n",
       "      <th></th>\n",
       "      <th></th>\n",
       "    </tr>\n",
       "  </thead>\n",
       "  <tbody>\n",
       "    <tr>\n",
       "      <th>2017-04-17</th>\n",
       "      <td>141.479996</td>\n",
       "      <td>141.880005</td>\n",
       "      <td>140.869995</td>\n",
       "      <td>141.830002</td>\n",
       "      <td>135.750275</td>\n",
       "      <td>16582100</td>\n",
       "    </tr>\n",
       "    <tr>\n",
       "      <th>2017-04-18</th>\n",
       "      <td>141.410004</td>\n",
       "      <td>142.039993</td>\n",
       "      <td>141.110001</td>\n",
       "      <td>141.199997</td>\n",
       "      <td>135.147308</td>\n",
       "      <td>14697500</td>\n",
       "    </tr>\n",
       "    <tr>\n",
       "      <th>2017-04-19</th>\n",
       "      <td>141.880005</td>\n",
       "      <td>142.000000</td>\n",
       "      <td>140.449997</td>\n",
       "      <td>140.679993</td>\n",
       "      <td>134.649567</td>\n",
       "      <td>17328400</td>\n",
       "    </tr>\n",
       "    <tr>\n",
       "      <th>2017-04-20</th>\n",
       "      <td>141.220001</td>\n",
       "      <td>142.919998</td>\n",
       "      <td>141.160004</td>\n",
       "      <td>142.440002</td>\n",
       "      <td>136.334137</td>\n",
       "      <td>23319600</td>\n",
       "    </tr>\n",
       "    <tr>\n",
       "      <th>2017-04-21</th>\n",
       "      <td>142.440002</td>\n",
       "      <td>142.679993</td>\n",
       "      <td>141.850006</td>\n",
       "      <td>142.270004</td>\n",
       "      <td>136.171432</td>\n",
       "      <td>17320900</td>\n",
       "    </tr>\n",
       "    <tr>\n",
       "      <th>...</th>\n",
       "      <td>...</td>\n",
       "      <td>...</td>\n",
       "      <td>...</td>\n",
       "      <td>...</td>\n",
       "      <td>...</td>\n",
       "      <td>...</td>\n",
       "    </tr>\n",
       "    <tr>\n",
       "      <th>2020-04-07</th>\n",
       "      <td>270.799988</td>\n",
       "      <td>271.700012</td>\n",
       "      <td>259.000000</td>\n",
       "      <td>259.429993</td>\n",
       "      <td>259.429993</td>\n",
       "      <td>50721800</td>\n",
       "    </tr>\n",
       "    <tr>\n",
       "      <th>2020-04-08</th>\n",
       "      <td>262.739990</td>\n",
       "      <td>267.369995</td>\n",
       "      <td>261.230011</td>\n",
       "      <td>266.070007</td>\n",
       "      <td>266.070007</td>\n",
       "      <td>42223800</td>\n",
       "    </tr>\n",
       "    <tr>\n",
       "      <th>2020-04-09</th>\n",
       "      <td>268.700012</td>\n",
       "      <td>270.070007</td>\n",
       "      <td>264.700012</td>\n",
       "      <td>267.989990</td>\n",
       "      <td>267.989990</td>\n",
       "      <td>40529100</td>\n",
       "    </tr>\n",
       "    <tr>\n",
       "      <th>2020-04-13</th>\n",
       "      <td>268.309998</td>\n",
       "      <td>273.700012</td>\n",
       "      <td>265.829987</td>\n",
       "      <td>273.250000</td>\n",
       "      <td>273.250000</td>\n",
       "      <td>32755700</td>\n",
       "    </tr>\n",
       "    <tr>\n",
       "      <th>2020-04-14</th>\n",
       "      <td>280.000000</td>\n",
       "      <td>288.250000</td>\n",
       "      <td>278.049988</td>\n",
       "      <td>287.049988</td>\n",
       "      <td>287.049988</td>\n",
       "      <td>48612900</td>\n",
       "    </tr>\n",
       "  </tbody>\n",
       "</table>\n",
       "<p>754 rows × 6 columns</p>\n",
       "</div>"
      ],
      "text/plain": [
       "                  Open        High         Low       Close   Adj Close  \\\n",
       "Date                                                                     \n",
       "2017-04-17  141.479996  141.880005  140.869995  141.830002  135.750275   \n",
       "2017-04-18  141.410004  142.039993  141.110001  141.199997  135.147308   \n",
       "2017-04-19  141.880005  142.000000  140.449997  140.679993  134.649567   \n",
       "2017-04-20  141.220001  142.919998  141.160004  142.440002  136.334137   \n",
       "2017-04-21  142.440002  142.679993  141.850006  142.270004  136.171432   \n",
       "...                ...         ...         ...         ...         ...   \n",
       "2020-04-07  270.799988  271.700012  259.000000  259.429993  259.429993   \n",
       "2020-04-08  262.739990  267.369995  261.230011  266.070007  266.070007   \n",
       "2020-04-09  268.700012  270.070007  264.700012  267.989990  267.989990   \n",
       "2020-04-13  268.309998  273.700012  265.829987  273.250000  273.250000   \n",
       "2020-04-14  280.000000  288.250000  278.049988  287.049988  287.049988   \n",
       "\n",
       "              Volume  \n",
       "Date                  \n",
       "2017-04-17  16582100  \n",
       "2017-04-18  14697500  \n",
       "2017-04-19  17328400  \n",
       "2017-04-20  23319600  \n",
       "2017-04-21  17320900  \n",
       "...              ...  \n",
       "2020-04-07  50721800  \n",
       "2020-04-08  42223800  \n",
       "2020-04-09  40529100  \n",
       "2020-04-13  32755700  \n",
       "2020-04-14  48612900  \n",
       "\n",
       "[754 rows x 6 columns]"
      ]
     },
     "execution_count": 4,
     "metadata": {},
     "output_type": "execute_result"
    }
   ],
   "source": [
    "apple.set_index('Date')"
   ]
  },
  {
   "cell_type": "code",
   "execution_count": 5,
   "metadata": {},
   "outputs": [],
   "source": [
    "# Convert Date column to datetime\n",
    "apple['Date'] = pd.to_datetime(apple['Date'])"
   ]
  },
  {
   "cell_type": "code",
   "execution_count": 6,
   "metadata": {},
   "outputs": [
    {
     "data": {
      "text/plain": [
       "Date         datetime64[ns]\n",
       "Open                float64\n",
       "High                float64\n",
       "Low                 float64\n",
       "Close               float64\n",
       "Adj Close           float64\n",
       "Volume                int64\n",
       "dtype: object"
      ]
     },
     "execution_count": 6,
     "metadata": {},
     "output_type": "execute_result"
    }
   ],
   "source": [
    "# Display the data type for each column\n",
    "apple.dtypes"
   ]
  },
  {
   "cell_type": "code",
   "execution_count": 7,
   "metadata": {
    "scrolled": true
   },
   "outputs": [
    {
     "data": {
      "text/html": [
       "<div>\n",
       "<style scoped>\n",
       "    .dataframe tbody tr th:only-of-type {\n",
       "        vertical-align: middle;\n",
       "    }\n",
       "\n",
       "    .dataframe tbody tr th {\n",
       "        vertical-align: top;\n",
       "    }\n",
       "\n",
       "    .dataframe thead th {\n",
       "        text-align: right;\n",
       "    }\n",
       "</style>\n",
       "<table border=\"1\" class=\"dataframe\">\n",
       "  <thead>\n",
       "    <tr style=\"text-align: right;\">\n",
       "      <th></th>\n",
       "      <th>Date</th>\n",
       "      <th>Open</th>\n",
       "      <th>High</th>\n",
       "      <th>Low</th>\n",
       "      <th>Close</th>\n",
       "      <th>Adj Close</th>\n",
       "      <th>Volume</th>\n",
       "    </tr>\n",
       "  </thead>\n",
       "  <tbody>\n",
       "    <tr>\n",
       "      <th>0</th>\n",
       "      <td>2017-04-17</td>\n",
       "      <td>141.48</td>\n",
       "      <td>141.88</td>\n",
       "      <td>140.87</td>\n",
       "      <td>141.83</td>\n",
       "      <td>135.75</td>\n",
       "      <td>16582100</td>\n",
       "    </tr>\n",
       "    <tr>\n",
       "      <th>1</th>\n",
       "      <td>2017-04-18</td>\n",
       "      <td>141.41</td>\n",
       "      <td>142.04</td>\n",
       "      <td>141.11</td>\n",
       "      <td>141.20</td>\n",
       "      <td>135.15</td>\n",
       "      <td>14697500</td>\n",
       "    </tr>\n",
       "    <tr>\n",
       "      <th>2</th>\n",
       "      <td>2017-04-19</td>\n",
       "      <td>141.88</td>\n",
       "      <td>142.00</td>\n",
       "      <td>140.45</td>\n",
       "      <td>140.68</td>\n",
       "      <td>134.65</td>\n",
       "      <td>17328400</td>\n",
       "    </tr>\n",
       "    <tr>\n",
       "      <th>3</th>\n",
       "      <td>2017-04-20</td>\n",
       "      <td>141.22</td>\n",
       "      <td>142.92</td>\n",
       "      <td>141.16</td>\n",
       "      <td>142.44</td>\n",
       "      <td>136.33</td>\n",
       "      <td>23319600</td>\n",
       "    </tr>\n",
       "    <tr>\n",
       "      <th>4</th>\n",
       "      <td>2017-04-21</td>\n",
       "      <td>142.44</td>\n",
       "      <td>142.68</td>\n",
       "      <td>141.85</td>\n",
       "      <td>142.27</td>\n",
       "      <td>136.17</td>\n",
       "      <td>17320900</td>\n",
       "    </tr>\n",
       "    <tr>\n",
       "      <th>...</th>\n",
       "      <td>...</td>\n",
       "      <td>...</td>\n",
       "      <td>...</td>\n",
       "      <td>...</td>\n",
       "      <td>...</td>\n",
       "      <td>...</td>\n",
       "      <td>...</td>\n",
       "    </tr>\n",
       "    <tr>\n",
       "      <th>749</th>\n",
       "      <td>2020-04-07</td>\n",
       "      <td>270.80</td>\n",
       "      <td>271.70</td>\n",
       "      <td>259.00</td>\n",
       "      <td>259.43</td>\n",
       "      <td>259.43</td>\n",
       "      <td>50721800</td>\n",
       "    </tr>\n",
       "    <tr>\n",
       "      <th>750</th>\n",
       "      <td>2020-04-08</td>\n",
       "      <td>262.74</td>\n",
       "      <td>267.37</td>\n",
       "      <td>261.23</td>\n",
       "      <td>266.07</td>\n",
       "      <td>266.07</td>\n",
       "      <td>42223800</td>\n",
       "    </tr>\n",
       "    <tr>\n",
       "      <th>751</th>\n",
       "      <td>2020-04-09</td>\n",
       "      <td>268.70</td>\n",
       "      <td>270.07</td>\n",
       "      <td>264.70</td>\n",
       "      <td>267.99</td>\n",
       "      <td>267.99</td>\n",
       "      <td>40529100</td>\n",
       "    </tr>\n",
       "    <tr>\n",
       "      <th>752</th>\n",
       "      <td>2020-04-13</td>\n",
       "      <td>268.31</td>\n",
       "      <td>273.70</td>\n",
       "      <td>265.83</td>\n",
       "      <td>273.25</td>\n",
       "      <td>273.25</td>\n",
       "      <td>32755700</td>\n",
       "    </tr>\n",
       "    <tr>\n",
       "      <th>753</th>\n",
       "      <td>2020-04-14</td>\n",
       "      <td>280.00</td>\n",
       "      <td>288.25</td>\n",
       "      <td>278.05</td>\n",
       "      <td>287.05</td>\n",
       "      <td>287.05</td>\n",
       "      <td>48612900</td>\n",
       "    </tr>\n",
       "  </tbody>\n",
       "</table>\n",
       "<p>754 rows × 7 columns</p>\n",
       "</div>"
      ],
      "text/plain": [
       "          Date    Open    High     Low   Close  Adj Close    Volume\n",
       "0   2017-04-17  141.48  141.88  140.87  141.83     135.75  16582100\n",
       "1   2017-04-18  141.41  142.04  141.11  141.20     135.15  14697500\n",
       "2   2017-04-19  141.88  142.00  140.45  140.68     134.65  17328400\n",
       "3   2017-04-20  141.22  142.92  141.16  142.44     136.33  23319600\n",
       "4   2017-04-21  142.44  142.68  141.85  142.27     136.17  17320900\n",
       "..         ...     ...     ...     ...     ...        ...       ...\n",
       "749 2020-04-07  270.80  271.70  259.00  259.43     259.43  50721800\n",
       "750 2020-04-08  262.74  267.37  261.23  266.07     266.07  42223800\n",
       "751 2020-04-09  268.70  270.07  264.70  267.99     267.99  40529100\n",
       "752 2020-04-13  268.31  273.70  265.83  273.25     273.25  32755700\n",
       "753 2020-04-14  280.00  288.25  278.05  287.05     287.05  48612900\n",
       "\n",
       "[754 rows x 7 columns]"
      ]
     },
     "execution_count": 7,
     "metadata": {},
     "output_type": "execute_result"
    }
   ],
   "source": [
    "# Round the decimals\n",
    "apple.round(2)"
   ]
  },
  {
   "cell_type": "code",
   "execution_count": 8,
   "metadata": {},
   "outputs": [
    {
     "data": {
      "image/png": "[encoded data removed]",
      "text/plain": [
       "<Figure size 432x288 with 1 Axes>"
      ]
     },
     "metadata": {
      "needs_background": "light"
     },
     "output_type": "display_data"
    }
   ],
   "source": [
    "# Plot time series\n",
    "apple.plot(kind='line', x='Date', y='Close', color='red')\n",
    "\n",
    "# Specify x-axis label\n",
    "plt.xlabel('Date')\n",
    "\n",
    "# Specify y-axis label\n",
    "plt.ylabel('Close')\n",
    "\n",
    "# Show plot\n",
    "plt.show()"
   ]
  },
  {
   "cell_type": "code",
   "execution_count": 9,
   "metadata": {},
   "outputs": [
    {
     "data": {
      "image/png": "[encoded data removed]",
      "text/plain": [
       "<Figure size 432x288 with 1 Axes>"
      ]
     },
     "metadata": {},
     "output_type": "display_data"
    }
   ],
   "source": [
    "# Specify the plot styles\n",
    "plt.style.use('fivethirtyeight')\n",
    "\n",
    "# Plot apple\n",
    "apple.plot(kind='line', x='Date', y='Close')\n",
    "\n",
    "plt.title('apple close price')\n",
    "plt.show()"
   ]
  },
  {
   "cell_type": "code",
   "execution_count": 10,
   "metadata": {},
   "outputs": [
    {
     "data": {
      "image/png": "[encoded data removed]",
      "text/plain": [
       "<Figure size 432x288 with 1 Axes>"
      ]
     },
     "metadata": {},
     "output_type": "display_data"
    }
   ],
   "source": [
    "plt.style.use('ggplot')\n",
    "\n",
    "apple.plot(kind='line', x='Date', y='Close')\n",
    "\n",
    "plt.show();"
   ]
  },
  {
   "cell_type": "code",
   "execution_count": 11,
   "metadata": {},
   "outputs": [
    {
     "data": {
      "image/png": "[encoded data removed]",
      "text/plain": [
       "<Figure size 576x216 with 1 Axes>"
      ]
     },
     "metadata": {},
     "output_type": "display_data"
    }
   ],
   "source": [
    "apple.plot(color='blue', x='Date', y='Close', figsize=(8,3), linewidth=1, fontsize=6)\n",
    "\n",
    "plt.title('Apple close price from 2017-2020', fontsize=8)\n",
    "\n",
    "plt.show();"
   ]
  },
  {
   "cell_type": "code",
   "execution_count": 12,
   "metadata": {},
   "outputs": [],
   "source": [
    "# Subset the data\n",
    "apple['Date'] = pd.to_datetime(apple['Date'])\n",
    "\n",
    "\n",
    "\n",
    "#apple_subset = apple['2019': '2020']"
   ]
  },
  {
   "cell_type": "code",
   "execution_count": 13,
   "metadata": {},
   "outputs": [
    {
     "data": {
      "text/plain": [
       "Date         datetime64[ns]\n",
       "Open                float64\n",
       "High                float64\n",
       "Low                 float64\n",
       "Close               float64\n",
       "Adj Close           float64\n",
       "Volume                int64\n",
       "dtype: object"
      ]
     },
     "execution_count": 13,
     "metadata": {},
     "output_type": "execute_result"
    }
   ],
   "source": [
    "apple.dtypes"
   ]
  },
  {
   "cell_type": "code",
   "execution_count": null,
   "metadata": {},
   "outputs": [],
   "source": []
  }
 ],
 "metadata": {
  "kernelspec": {
   "display_name": "Python 3",
   "language": "python",
   "name": "python3"
  },
  "language_info": {
   "codemirror_mode": {
    "name": "ipython",
    "version": 3
   },
   "file_extension": ".py",
   "mimetype": "text/x-python",
   "name": "python",
   "nbconvert_exporter": "python",
   "pygments_lexer": "ipython3",
   "version": "3.7.2"
  }
 },
 "nbformat": 4,
 "nbformat_minor": 2
}
