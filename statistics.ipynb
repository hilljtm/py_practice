{
 "cells": [
  {
   "cell_type": "code",
   "execution_count": 2,
   "metadata": {},
   "outputs": [],
   "source": [
    "# Plot all your data\n",
    "\n",
    "# A major drawback of histograms is that the same dataset can look different depending on the number of bins\n",
    "# This leads to binning bias\n",
    "# Binning bias: same data may be interpreted differently depending on the choice of bins\n",
    "# Histograms don't plot ALL data, your sweeping data into bins and losing the actual values\n",
    "# To remedy this we can use a swarm plot\n",
    "# In order to plot a swarm plot the data needs to be in a data frame\n",
    "# each column is a feature of interest, each row is an observation"
   ]
  },
  {
   "cell_type": "code",
   "execution_count": 4,
   "metadata": {},
   "outputs": [],
   "source": [
    "import pandas as pd\n",
    "import numpy as np\n",
    "import matplotlib.pyplot as plt\n",
    "import seaborn as sns;"
   ]
  },
  {
   "cell_type": "code",
   "execution_count": null,
   "metadata": {},
   "outputs": [],
   "source": [
    "sns.swarmplot(x='', y='', data=df )"
   ]
  }
 ],
 "metadata": {
  "kernelspec": {
   "display_name": "Python 3",
   "language": "python",
   "name": "python3"
  },
  "language_info": {
   "codemirror_mode": {
    "name": "ipython",
    "version": 3
   },
   "file_extension": ".py",
   "mimetype": "text/x-python",
   "name": "python",
   "nbconvert_exporter": "python",
   "pygments_lexer": "ipython3",
   "version": "3.7.2"
  }
 },
 "nbformat": 4,
 "nbformat_minor": 2
}
